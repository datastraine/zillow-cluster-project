{
 "cells": [
  {
   "cell_type": "code",
   "execution_count": 1,
   "metadata": {},
   "outputs": [
    {
     "name": "stdout",
     "output_type": "stream",
     "text": [
      "Scucess\n"
     ]
    }
   ],
   "source": [
    "import pandas as pd\n",
    "import numpy as np\n",
    "import matplotlib.pyplot as plt\n",
    "import seaborn as sns\n",
    "import acquire\n",
    "print(\"Scucess\")"
   ]
  },
  {
   "cell_type": "markdown",
   "metadata": {},
   "source": [
    "# Pre Zillow\n",
    "This notebook is used to prepare the zillow_wrangle.py function by performing basic operations to see things like value counts on columns, detect outliers, etc."
   ]
  },
  {
   "cell_type": "code",
   "execution_count": 2,
   "metadata": {},
   "outputs": [
    {
     "name": "stdout",
     "output_type": "stream",
     "text": [
      "Help on module acquire:\n",
      "\n",
      "NAME\n",
      "    acquire\n",
      "\n",
      "FUNCTIONS\n",
      "    columns_data(df)\n",
      "        Takes in a data frame and returns the number of rows and percentage of rows missing per column\n",
      "    \n",
      "    get_connection(db, user='darden_1027', host='157.230.209.171', password='nIymKg6jJmIPe6gQxik57EkY3Fl9kmvl')\n",
      "        Returns a formatted url with login credentials to access data on a SQL database.\n",
      "    \n",
      "    load_zillow_data()\n",
      "        This function acquires the zillow dataset from a SQL Database.\n",
      "        It returns the zillow dataset as a Pandas DataFrame.\n",
      "        \n",
      "        A local copy will be created as a csv file in the current directory for future use.\n",
      "    \n",
      "    row_data(df)\n",
      "        Takes in a data frame and returns the range of columns with missing data, \n",
      "        what precentage of missing columns that represents,\n",
      "        and how many rows have that number of missing columns\n",
      "    \n",
      "    summarize(df)\n",
      "        Prints the basic summary statistics of a data frame\n",
      "\n",
      "FILE\n",
      "    c:\\users\\anthony\\documents\\data_science\\codeup\\zillow-clustering-project\\acquire.py\n",
      "\n",
      "\n"
     ]
    }
   ],
   "source": [
    "help(acquire)"
   ]
  },
  {
   "cell_type": "code",
   "execution_count": 3,
   "metadata": {},
   "outputs": [
    {
     "name": "stderr",
     "output_type": "stream",
     "text": [
      "C:\\Users\\anthony\\anaconda3\\lib\\site-packages\\IPython\\core\\interactiveshell.py:3337: DtypeWarning: Columns (69) have mixed types.Specify dtype option on import or set low_memory=False.\n",
      "  if (await self.run_code(code, result,  async_=asy)):\n"
     ]
    },
    {
     "data": {
      "text/plain": [
       "(77381, 70)"
      ]
     },
     "execution_count": 3,
     "metadata": {},
     "output_type": "execute_result"
    }
   ],
   "source": [
    "df = acquire.load_zillow_data()\n",
    "df.shape"
   ]
  },
  {
   "cell_type": "code",
   "execution_count": 4,
   "metadata": {},
   "outputs": [
    {
     "data": {
      "text/html": [
       "<div>\n",
       "<style scoped>\n",
       "    .dataframe tbody tr th:only-of-type {\n",
       "        vertical-align: middle;\n",
       "    }\n",
       "\n",
       "    .dataframe tbody tr th {\n",
       "        vertical-align: top;\n",
       "    }\n",
       "\n",
       "    .dataframe thead th {\n",
       "        text-align: right;\n",
       "    }\n",
       "</style>\n",
       "<table border=\"1\" class=\"dataframe\">\n",
       "  <thead>\n",
       "    <tr style=\"text-align: right;\">\n",
       "      <th></th>\n",
       "      <th>num_cols_missing</th>\n",
       "      <th>num_rows</th>\n",
       "      <th>pct_cols_missing</th>\n",
       "    </tr>\n",
       "  </thead>\n",
       "  <tbody>\n",
       "    <tr>\n",
       "      <th>0</th>\n",
       "      <td>23</td>\n",
       "      <td>2</td>\n",
       "      <td>0.328571</td>\n",
       "    </tr>\n",
       "    <tr>\n",
       "      <th>1</th>\n",
       "      <td>24</td>\n",
       "      <td>13</td>\n",
       "      <td>0.342857</td>\n",
       "    </tr>\n",
       "    <tr>\n",
       "      <th>2</th>\n",
       "      <td>25</td>\n",
       "      <td>24</td>\n",
       "      <td>0.357143</td>\n",
       "    </tr>\n",
       "    <tr>\n",
       "      <th>3</th>\n",
       "      <td>26</td>\n",
       "      <td>65</td>\n",
       "      <td>0.371429</td>\n",
       "    </tr>\n",
       "    <tr>\n",
       "      <th>4</th>\n",
       "      <td>27</td>\n",
       "      <td>316</td>\n",
       "      <td>0.385714</td>\n",
       "    </tr>\n",
       "    <tr>\n",
       "      <th>5</th>\n",
       "      <td>28</td>\n",
       "      <td>455</td>\n",
       "      <td>0.400000</td>\n",
       "    </tr>\n",
       "    <tr>\n",
       "      <th>6</th>\n",
       "      <td>29</td>\n",
       "      <td>5270</td>\n",
       "      <td>0.414286</td>\n",
       "    </tr>\n",
       "    <tr>\n",
       "      <th>7</th>\n",
       "      <td>30</td>\n",
       "      <td>3455</td>\n",
       "      <td>0.428571</td>\n",
       "    </tr>\n",
       "    <tr>\n",
       "      <th>8</th>\n",
       "      <td>31</td>\n",
       "      <td>9891</td>\n",
       "      <td>0.442857</td>\n",
       "    </tr>\n",
       "    <tr>\n",
       "      <th>9</th>\n",
       "      <td>32</td>\n",
       "      <td>12579</td>\n",
       "      <td>0.457143</td>\n",
       "    </tr>\n",
       "    <tr>\n",
       "      <th>10</th>\n",
       "      <td>33</td>\n",
       "      <td>14782</td>\n",
       "      <td>0.471429</td>\n",
       "    </tr>\n",
       "    <tr>\n",
       "      <th>11</th>\n",
       "      <td>34</td>\n",
       "      <td>13327</td>\n",
       "      <td>0.485714</td>\n",
       "    </tr>\n",
       "    <tr>\n",
       "      <th>12</th>\n",
       "      <td>35</td>\n",
       "      <td>5148</td>\n",
       "      <td>0.500000</td>\n",
       "    </tr>\n",
       "    <tr>\n",
       "      <th>13</th>\n",
       "      <td>36</td>\n",
       "      <td>5775</td>\n",
       "      <td>0.514286</td>\n",
       "    </tr>\n",
       "    <tr>\n",
       "      <th>14</th>\n",
       "      <td>37</td>\n",
       "      <td>3620</td>\n",
       "      <td>0.528571</td>\n",
       "    </tr>\n",
       "    <tr>\n",
       "      <th>15</th>\n",
       "      <td>38</td>\n",
       "      <td>1925</td>\n",
       "      <td>0.542857</td>\n",
       "    </tr>\n",
       "    <tr>\n",
       "      <th>16</th>\n",
       "      <td>39</td>\n",
       "      <td>285</td>\n",
       "      <td>0.557143</td>\n",
       "    </tr>\n",
       "    <tr>\n",
       "      <th>17</th>\n",
       "      <td>40</td>\n",
       "      <td>230</td>\n",
       "      <td>0.571429</td>\n",
       "    </tr>\n",
       "    <tr>\n",
       "      <th>18</th>\n",
       "      <td>41</td>\n",
       "      <td>29</td>\n",
       "      <td>0.585714</td>\n",
       "    </tr>\n",
       "    <tr>\n",
       "      <th>19</th>\n",
       "      <td>42</td>\n",
       "      <td>23</td>\n",
       "      <td>0.600000</td>\n",
       "    </tr>\n",
       "    <tr>\n",
       "      <th>20</th>\n",
       "      <td>43</td>\n",
       "      <td>28</td>\n",
       "      <td>0.614286</td>\n",
       "    </tr>\n",
       "    <tr>\n",
       "      <th>21</th>\n",
       "      <td>44</td>\n",
       "      <td>78</td>\n",
       "      <td>0.628571</td>\n",
       "    </tr>\n",
       "    <tr>\n",
       "      <th>22</th>\n",
       "      <td>45</td>\n",
       "      <td>50</td>\n",
       "      <td>0.642857</td>\n",
       "    </tr>\n",
       "    <tr>\n",
       "      <th>23</th>\n",
       "      <td>46</td>\n",
       "      <td>5</td>\n",
       "      <td>0.657143</td>\n",
       "    </tr>\n",
       "    <tr>\n",
       "      <th>24</th>\n",
       "      <td>47</td>\n",
       "      <td>3</td>\n",
       "      <td>0.671429</td>\n",
       "    </tr>\n",
       "    <tr>\n",
       "      <th>25</th>\n",
       "      <td>48</td>\n",
       "      <td>3</td>\n",
       "      <td>0.685714</td>\n",
       "    </tr>\n",
       "  </tbody>\n",
       "</table>\n",
       "</div>"
      ],
      "text/plain": [
       "    num_cols_missing  num_rows  pct_cols_missing\n",
       "0                 23         2          0.328571\n",
       "1                 24        13          0.342857\n",
       "2                 25        24          0.357143\n",
       "3                 26        65          0.371429\n",
       "4                 27       316          0.385714\n",
       "5                 28       455          0.400000\n",
       "6                 29      5270          0.414286\n",
       "7                 30      3455          0.428571\n",
       "8                 31      9891          0.442857\n",
       "9                 32     12579          0.457143\n",
       "10                33     14782          0.471429\n",
       "11                34     13327          0.485714\n",
       "12                35      5148          0.500000\n",
       "13                36      5775          0.514286\n",
       "14                37      3620          0.528571\n",
       "15                38      1925          0.542857\n",
       "16                39       285          0.557143\n",
       "17                40       230          0.571429\n",
       "18                41        29          0.585714\n",
       "19                42        23          0.600000\n",
       "20                43        28          0.614286\n",
       "21                44        78          0.628571\n",
       "22                45        50          0.642857\n",
       "23                46         5          0.657143\n",
       "24                47         3          0.671429\n",
       "25                48         3          0.685714"
      ]
     },
     "execution_count": 4,
     "metadata": {},
     "output_type": "execute_result"
    }
   ],
   "source": [
    "acquire.row_data(df)"
   ]
  },
  {
   "cell_type": "code",
   "execution_count": 5,
   "metadata": {
    "scrolled": true
   },
   "outputs": [
    {
     "data": {
      "text/html": [
       "<div>\n",
       "<style scoped>\n",
       "    .dataframe tbody tr th:only-of-type {\n",
       "        vertical-align: middle;\n",
       "    }\n",
       "\n",
       "    .dataframe tbody tr th {\n",
       "        vertical-align: top;\n",
       "    }\n",
       "\n",
       "    .dataframe thead th {\n",
       "        text-align: right;\n",
       "    }\n",
       "</style>\n",
       "<table border=\"1\" class=\"dataframe\">\n",
       "  <thead>\n",
       "    <tr style=\"text-align: right;\">\n",
       "      <th></th>\n",
       "      <th>columns</th>\n",
       "      <th>num_rows_missing</th>\n",
       "      <th>pct_rows_missing</th>\n",
       "    </tr>\n",
       "  </thead>\n",
       "  <tbody>\n",
       "    <tr>\n",
       "      <th>0</th>\n",
       "      <td>buildingclasstypeid</td>\n",
       "      <td>77366</td>\n",
       "      <td>0.999806</td>\n",
       "    </tr>\n",
       "    <tr>\n",
       "      <th>1</th>\n",
       "      <td>typeconstructiontypeid</td>\n",
       "      <td>77159</td>\n",
       "      <td>0.997131</td>\n",
       "    </tr>\n",
       "    <tr>\n",
       "      <th>2</th>\n",
       "      <td>storytypeid</td>\n",
       "      <td>77331</td>\n",
       "      <td>0.999354</td>\n",
       "    </tr>\n",
       "    <tr>\n",
       "      <th>3</th>\n",
       "      <td>propertylandusetypeid</td>\n",
       "      <td>0</td>\n",
       "      <td>0.000000</td>\n",
       "    </tr>\n",
       "    <tr>\n",
       "      <th>4</th>\n",
       "      <td>heatingorsystemtypeid</td>\n",
       "      <td>27941</td>\n",
       "      <td>0.361083</td>\n",
       "    </tr>\n",
       "    <tr>\n",
       "      <th>...</th>\n",
       "      <td>...</td>\n",
       "      <td>...</td>\n",
       "      <td>...</td>\n",
       "    </tr>\n",
       "    <tr>\n",
       "      <th>65</th>\n",
       "      <td>heatingorsystemdesc</td>\n",
       "      <td>27941</td>\n",
       "      <td>0.361083</td>\n",
       "    </tr>\n",
       "    <tr>\n",
       "      <th>66</th>\n",
       "      <td>propertylandusedesc</td>\n",
       "      <td>0</td>\n",
       "      <td>0.000000</td>\n",
       "    </tr>\n",
       "    <tr>\n",
       "      <th>67</th>\n",
       "      <td>storydesc</td>\n",
       "      <td>77331</td>\n",
       "      <td>0.999354</td>\n",
       "    </tr>\n",
       "    <tr>\n",
       "      <th>68</th>\n",
       "      <td>typeconstructiondesc</td>\n",
       "      <td>77159</td>\n",
       "      <td>0.997131</td>\n",
       "    </tr>\n",
       "    <tr>\n",
       "      <th>69</th>\n",
       "      <td>buildingclassdesc</td>\n",
       "      <td>77366</td>\n",
       "      <td>0.999806</td>\n",
       "    </tr>\n",
       "  </tbody>\n",
       "</table>\n",
       "<p>70 rows × 3 columns</p>\n",
       "</div>"
      ],
      "text/plain": [
       "                   columns  num_rows_missing  pct_rows_missing\n",
       "0      buildingclasstypeid             77366          0.999806\n",
       "1   typeconstructiontypeid             77159          0.997131\n",
       "2              storytypeid             77331          0.999354\n",
       "3    propertylandusetypeid                 0          0.000000\n",
       "4    heatingorsystemtypeid             27941          0.361083\n",
       "..                     ...               ...               ...\n",
       "65     heatingorsystemdesc             27941          0.361083\n",
       "66     propertylandusedesc                 0          0.000000\n",
       "67               storydesc             77331          0.999354\n",
       "68    typeconstructiondesc             77159          0.997131\n",
       "69       buildingclassdesc             77366          0.999806\n",
       "\n",
       "[70 rows x 3 columns]"
      ]
     },
     "execution_count": 5,
     "metadata": {},
     "output_type": "execute_result"
    }
   ],
   "source": [
    "acquire.columns_data(df)"
   ]
  },
  {
   "cell_type": "code",
   "execution_count": 6,
   "metadata": {},
   "outputs": [
    {
     "data": {
      "text/plain": [
       "1.0    16137\n",
       "Name: poolcnt, dtype: int64"
      ]
     },
     "execution_count": 6,
     "metadata": {},
     "output_type": "execute_result"
    }
   ],
   "source": [
    "df.poolcnt.value_counts()"
   ]
  },
  {
   "cell_type": "code",
   "execution_count": 7,
   "metadata": {},
   "outputs": [
    {
     "data": {
      "text/plain": [
       "77331"
      ]
     },
     "execution_count": 7,
     "metadata": {},
     "output_type": "execute_result"
    }
   ],
   "source": [
    "df.basementsqft.isnull().sum()\n"
   ]
  },
  {
   "cell_type": "code",
   "execution_count": 8,
   "metadata": {},
   "outputs": [
    {
     "data": {
      "text/plain": [
       "array([nan, 'Basement'], dtype=object)"
      ]
     },
     "execution_count": 8,
     "metadata": {},
     "output_type": "execute_result"
    }
   ],
   "source": [
    "df.storydesc.unique()"
   ]
  },
  {
   "cell_type": "code",
   "execution_count": 9,
   "metadata": {},
   "outputs": [
    {
     "data": {
      "text/plain": [
       "array([nan, 'Central', 'Floor/Wall', 'Forced air', 'Yes', 'None',\n",
       "       'Radiant', 'Solar', 'Baseboard', 'Gravity', 'Heat Pump'],\n",
       "      dtype=object)"
      ]
     },
     "execution_count": 9,
     "metadata": {},
     "output_type": "execute_result"
    }
   ],
   "source": [
    "df.heatingorsystemdesc.unique()"
   ]
  },
  {
   "cell_type": "code",
   "execution_count": 10,
   "metadata": {},
   "outputs": [
    {
     "name": "stdout",
     "output_type": "stream",
     "text": [
      "69105\n",
      "77209\n"
     ]
    }
   ],
   "source": [
    "print(df.fireplacecnt.isnull().sum())\n",
    "print(df.fireplaceflag.isnull().sum())"
   ]
  },
  {
   "cell_type": "code",
   "execution_count": 11,
   "metadata": {},
   "outputs": [
    {
     "data": {
      "text/plain": [
       "10.917408666210052"
      ]
     },
     "execution_count": 11,
     "metadata": {},
     "output_type": "execute_result"
    }
   ],
   "source": [
    "((df['fireplaceflag'] == 1) == (df.fireplacecnt.isnull())).mean() * 100"
   ]
  },
  {
   "cell_type": "code",
   "execution_count": 12,
   "metadata": {},
   "outputs": [
    {
     "data": {
      "text/plain": [
       "array([nan,  1.])"
      ]
     },
     "execution_count": 12,
     "metadata": {},
     "output_type": "execute_result"
    }
   ],
   "source": [
    "df.hashottuborspa.unique()"
   ]
  },
  {
   "cell_type": "code",
   "execution_count": 13,
   "metadata": {},
   "outputs": [
    {
     "data": {
      "text/plain": [
       "Single Family Residential                   33734\n",
       "Condominium                                 11494\n",
       "Planned Unit Development                     1937\n",
       "Mobile Home                                    53\n",
       "Cooperative                                    29\n",
       "Duplex (2 Units, Any Combination)              20\n",
       "Residential General                            10\n",
       "Commercial/Office/Residential Mixed Used        8\n",
       "Townhouse                                       6\n",
       "Triplex (3 Units, Any Combination)              2\n",
       "Name: propertylandusedesc, dtype: int64"
      ]
     },
     "execution_count": 13,
     "metadata": {},
     "output_type": "execute_result"
    }
   ],
   "source": [
    "df['propertylandusedesc'].loc[df['unitcnt'] == 1].value_counts()"
   ]
  },
  {
   "cell_type": "code",
   "execution_count": 14,
   "metadata": {},
   "outputs": [
    {
     "data": {
      "text/plain": [
       "6037.0    47282\n",
       "6059.0       10\n",
       "6111.0        1\n",
       "Name: fips, dtype: int64"
      ]
     },
     "execution_count": 14,
     "metadata": {},
     "output_type": "execute_result"
    }
   ],
   "source": [
    "df['fips'].loc[df['unitcnt'] == 1].value_counts()"
   ]
  },
  {
   "cell_type": "code",
   "execution_count": 15,
   "metadata": {},
   "outputs": [],
   "source": [
    "def prep_zillow():\n",
    "    '''\n",
    "    Loads zillow data and then fliters it where propertylandusetypeid is 260, 261, 262, 263, 264, 265, 268, 275, 276, or 279.\n",
    "    Drops unnecessary id columns and any duplicated columns.    \n",
    "    Creates a has_ool column where poolcnt = 1.\n",
    "    Creates a has_basement column where basementsqft > 0.\n",
    "    Replaces nan values with 'none' for heatingorsystemdesc\n",
    "    Replaces nan values with 0 for hashottuborspa. This was done because the only values were nan or 1\n",
    "    Drops calculatedbathnbr, fullbathcnt,  columns \n",
    "    Drops columns where the percentage of missing data is over 40%\n",
    "    Drop rows where the percentage of missing data is over 50%\n",
    "    '''\n",
    "    df = acquire.load_zillow_data()\n",
    "    df = df[df.propertylandusetypeid.isin([260, 261, 262, 263, 264, 265, 268, 275, 276, 279])]\n",
    "    df.drop(columns = ['buildingclasstypeid', 'typeconstructiontypeid', 'storytypeid',\n",
    "                   'propertylandusetypeid', 'heatingorsystemtypeid', 'architecturalstyletypeid',\n",
    "                   'airconditioningtypeid', 'id', 'parcelid' , 'unitcnt', 'propertyzoningdesc', \n",
    "                   'finishedsquarefeet12', 'calculatedbathnbr', 'finishedsquarefeet12', 'fullbathcnt'], inplace = True)\n",
    "    df.drop(columns = [c for c in df.columns if c.endswith('.1')], inplace=True)\n",
    "    df['has_pool'] = df['poolcnt'] == 1\n",
    "    df['has_basement'] = df['basementsqft'] > 0\n",
    "    df.heatingorsystemdesc.fillna('none', inplace = True)\n",
    "    df.hashottuborspa.fillna(0, inplace = True)\n",
    "    df.replace({True:1, False:0}, inplace = True)\n",
    "    df = handle_missing_values(df, .6, .5)\n",
    "    return df"
   ]
  },
  {
   "cell_type": "code",
   "execution_count": 16,
   "metadata": {},
   "outputs": [],
   "source": [
    "def handle_missing_values(df, prop_required_column=.5, prop_required_row=.5):\n",
    "    '''\n",
    "    This function takes in a DataFrame (df), a minium for prop_required_column [0:1] with deafult of .5, \n",
    "    and a minimum value [0:1] for prop_required_row with a default of .5.\n",
    "    \n",
    "    It will first drop columns who's missing data is less than prop_required_column value.\n",
    "    It will then drop the rows who's missing data is lower than the prop_required_row.\n",
    "    '''\n",
    "    columns_to_keep = []\n",
    "    columns = df.columns\n",
    "    for col in columns:   \n",
    "        if df[col].notnull().sum()/df.shape[0] >= prop_required_column:\n",
    "            columns_to_keep.append(col)\n",
    "    df = df[columns_to_keep]\n",
    "    df['row_to_keep'] = df.notnull().sum(axis=1)/df.shape[1] >= prop_required_row\n",
    "    df = df.loc[df['row_to_keep'] == True]\n",
    "    df.drop(columns= ['row_to_keep'], inplace = True)\n",
    "    return df"
   ]
  },
  {
   "cell_type": "code",
   "execution_count": 17,
   "metadata": {},
   "outputs": [
    {
     "name": "stderr",
     "output_type": "stream",
     "text": [
      "C:\\Users\\anthony\\anaconda3\\lib\\site-packages\\IPython\\core\\interactiveshell.py:3417: DtypeWarning: Columns (69) have mixed types.Specify dtype option on import or set low_memory=False.\n",
      "  exec(code_obj, self.user_global_ns, self.user_ns)\n",
      "<ipython-input-16-38dc43d33f77>:15: SettingWithCopyWarning: \n",
      "A value is trying to be set on a copy of a slice from a DataFrame.\n",
      "Try using .loc[row_indexer,col_indexer] = value instead\n",
      "\n",
      "See the caveats in the documentation: https://pandas.pydata.org/pandas-docs/stable/user_guide/indexing.html#returning-a-view-versus-a-copy\n",
      "  df['row_to_keep'] = df.notnull().sum(axis=1)/df.shape[1] >= prop_required_row\n"
     ]
    },
    {
     "data": {
      "text/plain": [
       "(52828, 28)"
      ]
     },
     "execution_count": 17,
     "metadata": {},
     "output_type": "execute_result"
    }
   ],
   "source": [
    "zillow = prep_zillow()\n",
    "zillow.shape"
   ]
  },
  {
   "cell_type": "code",
   "execution_count": 18,
   "metadata": {
    "scrolled": true
   },
   "outputs": [
    {
     "data": {
      "text/plain": [
       "buildingqualitytypeid           19106\n",
       "regionidcity                     1036\n",
       "lotsizesquarefeet                 408\n",
       "yearbuilt                         159\n",
       "calculatedfinishedsquarefeet      127\n",
       "censustractandblock               125\n",
       "structuretaxvaluedollarcnt         93\n",
       "regionidzip                        27\n",
       "taxamount                           4\n",
       "landtaxvaluedollarcnt               2\n",
       "taxvaluedollarcnt                   1\n",
       "propertycountylandusecode           0\n",
       "hashottuborspa                      0\n",
       "fips                                0\n",
       "latitude                            0\n",
       "longitude                           0\n",
       "bedroomcnt                          0\n",
       "has_basement                        0\n",
       "rawcensustractandblock              0\n",
       "regionidcounty                      0\n",
       "has_pool                            0\n",
       "roomcnt                             0\n",
       "assessmentyear                      0\n",
       "transactiondate                     0\n",
       "logerror                            0\n",
       "heatingorsystemdesc                 0\n",
       "propertylandusedesc                 0\n",
       "bathroomcnt                         0\n",
       "dtype: int64"
      ]
     },
     "execution_count": 18,
     "metadata": {},
     "output_type": "execute_result"
    }
   ],
   "source": [
    "zillow.isnull().sum().sort_values(ascending=False)"
   ]
  },
  {
   "cell_type": "code",
   "execution_count": 19,
   "metadata": {
    "scrolled": true
   },
   "outputs": [
    {
     "data": {
      "text/plain": [
       "0.361664268948285"
      ]
     },
     "execution_count": 19,
     "metadata": {},
     "output_type": "execute_result"
    }
   ],
   "source": [
    "19106/zillow.shape[0]"
   ]
  },
  {
   "cell_type": "code",
   "execution_count": 20,
   "metadata": {},
   "outputs": [
    {
     "data": {
      "text/plain": [
       "array([nan,  8.,  9.,  5.,  4.,  6.,  7., 10., 11.,  3., 12.,  2.,  1.])"
      ]
     },
     "execution_count": 20,
     "metadata": {},
     "output_type": "execute_result"
    }
   ],
   "source": [
    "zillow.buildingqualitytypeid.unique()"
   ]
  },
  {
   "cell_type": "code",
   "execution_count": 21,
   "metadata": {},
   "outputs": [
    {
     "data": {
      "text/plain": [
       "array(['none', 'Central', 'Floor/Wall', 'Forced air', 'Radiant', 'Solar',\n",
       "       'None', 'Yes', 'Gravity', 'Baseboard'], dtype=object)"
      ]
     },
     "execution_count": 21,
     "metadata": {},
     "output_type": "execute_result"
    }
   ],
   "source": [
    "zillow.heatingorsystemdesc.unique()"
   ]
  },
  {
   "cell_type": "code",
   "execution_count": 22,
   "metadata": {},
   "outputs": [
    {
     "name": "stdout",
     "output_type": "stream",
     "text": [
      "count    33722.000000\n",
      "mean         6.266947\n",
      "std          1.716054\n",
      "min          1.000000\n",
      "25%          5.000000\n",
      "50%          6.000000\n",
      "75%          8.000000\n",
      "max         12.000000\n",
      "Name: buildingqualitytypeid, dtype: float64\n",
      "6.0\n",
      "0    6.0\n",
      "dtype: float64\n",
      "6.266947393393037\n"
     ]
    }
   ],
   "source": [
    "print(zillow['buildingqualitytypeid'].describe())\n",
    "print(zillow['buildingqualitytypeid'].median())\n",
    "print(zillow['buildingqualitytypeid'].mode())\n",
    "print(zillow['buildingqualitytypeid'].mean())\n"
   ]
  },
  {
   "cell_type": "code",
   "execution_count": 23,
   "metadata": {},
   "outputs": [
    {
     "data": {
      "text/plain": [
       "6037.0    33921\n",
       "6059.0    14121\n",
       "6111.0     4786\n",
       "Name: fips, dtype: int64"
      ]
     },
     "execution_count": 23,
     "metadata": {},
     "output_type": "execute_result"
    }
   ],
   "source": [
    "zillow['fips'].value_counts()"
   ]
  },
  {
   "cell_type": "code",
   "execution_count": 24,
   "metadata": {},
   "outputs": [
    {
     "data": {
      "text/plain": [
       "12447.0    11439\n",
       "5534.0      1808\n",
       "40227.0     1499\n",
       "46298.0     1426\n",
       "16764.0     1085\n",
       "           ...  \n",
       "32927.0        3\n",
       "31134.0        2\n",
       "10815.0        1\n",
       "36078.0        1\n",
       "21395.0        1\n",
       "Name: regionidcity, Length: 175, dtype: int64"
      ]
     },
     "execution_count": 24,
     "metadata": {},
     "output_type": "execute_result"
    }
   ],
   "source": [
    "zillow['regionidcity'].value_counts()"
   ]
  },
  {
   "cell_type": "code",
   "execution_count": 25,
   "metadata": {},
   "outputs": [
    {
     "data": {
      "text/plain": [
       "3101.0    33921\n",
       "1286.0    14121\n",
       "2061.0     4786\n",
       "Name: regionidcounty, dtype: int64"
      ]
     },
     "execution_count": 25,
     "metadata": {},
     "output_type": "execute_result"
    }
   ],
   "source": [
    "zillow['regionidcounty'].value_counts()"
   ]
  },
  {
   "cell_type": "code",
   "execution_count": 26,
   "metadata": {},
   "outputs": [
    {
     "data": {
      "text/plain": [
       "46491"
      ]
     },
     "execution_count": 26,
     "metadata": {},
     "output_type": "execute_result"
    }
   ],
   "source": [
    "df.regionidneighborhood.isnull().sum()"
   ]
  },
  {
   "cell_type": "code",
   "execution_count": 27,
   "metadata": {
    "scrolled": true
   },
   "outputs": [
    {
     "data": {
      "text/html": [
       "<div>\n",
       "<style scoped>\n",
       "    .dataframe tbody tr th:only-of-type {\n",
       "        vertical-align: middle;\n",
       "    }\n",
       "\n",
       "    .dataframe tbody tr th {\n",
       "        vertical-align: top;\n",
       "    }\n",
       "\n",
       "    .dataframe thead th {\n",
       "        text-align: right;\n",
       "    }\n",
       "</style>\n",
       "<table border=\"1\" class=\"dataframe\">\n",
       "  <thead>\n",
       "    <tr style=\"text-align: right;\">\n",
       "      <th></th>\n",
       "      <th>regionidcounty</th>\n",
       "      <th>regionidzip</th>\n",
       "    </tr>\n",
       "  </thead>\n",
       "  <tbody>\n",
       "    <tr>\n",
       "      <th>4161</th>\n",
       "      <td>3101.0</td>\n",
       "      <td>NaN</td>\n",
       "    </tr>\n",
       "    <tr>\n",
       "      <th>9732</th>\n",
       "      <td>3101.0</td>\n",
       "      <td>NaN</td>\n",
       "    </tr>\n",
       "    <tr>\n",
       "      <th>10063</th>\n",
       "      <td>3101.0</td>\n",
       "      <td>NaN</td>\n",
       "    </tr>\n",
       "    <tr>\n",
       "      <th>13128</th>\n",
       "      <td>3101.0</td>\n",
       "      <td>NaN</td>\n",
       "    </tr>\n",
       "    <tr>\n",
       "      <th>13386</th>\n",
       "      <td>3101.0</td>\n",
       "      <td>NaN</td>\n",
       "    </tr>\n",
       "    <tr>\n",
       "      <th>18423</th>\n",
       "      <td>2061.0</td>\n",
       "      <td>NaN</td>\n",
       "    </tr>\n",
       "    <tr>\n",
       "      <th>26735</th>\n",
       "      <td>1286.0</td>\n",
       "      <td>NaN</td>\n",
       "    </tr>\n",
       "    <tr>\n",
       "      <th>30920</th>\n",
       "      <td>2061.0</td>\n",
       "      <td>NaN</td>\n",
       "    </tr>\n",
       "    <tr>\n",
       "      <th>34551</th>\n",
       "      <td>2061.0</td>\n",
       "      <td>NaN</td>\n",
       "    </tr>\n",
       "    <tr>\n",
       "      <th>34894</th>\n",
       "      <td>2061.0</td>\n",
       "      <td>NaN</td>\n",
       "    </tr>\n",
       "    <tr>\n",
       "      <th>35382</th>\n",
       "      <td>3101.0</td>\n",
       "      <td>NaN</td>\n",
       "    </tr>\n",
       "    <tr>\n",
       "      <th>35954</th>\n",
       "      <td>1286.0</td>\n",
       "      <td>NaN</td>\n",
       "    </tr>\n",
       "    <tr>\n",
       "      <th>39384</th>\n",
       "      <td>2061.0</td>\n",
       "      <td>NaN</td>\n",
       "    </tr>\n",
       "    <tr>\n",
       "      <th>41501</th>\n",
       "      <td>3101.0</td>\n",
       "      <td>NaN</td>\n",
       "    </tr>\n",
       "    <tr>\n",
       "      <th>43907</th>\n",
       "      <td>2061.0</td>\n",
       "      <td>NaN</td>\n",
       "    </tr>\n",
       "    <tr>\n",
       "      <th>45965</th>\n",
       "      <td>3101.0</td>\n",
       "      <td>NaN</td>\n",
       "    </tr>\n",
       "    <tr>\n",
       "      <th>46752</th>\n",
       "      <td>2061.0</td>\n",
       "      <td>NaN</td>\n",
       "    </tr>\n",
       "    <tr>\n",
       "      <th>51084</th>\n",
       "      <td>3101.0</td>\n",
       "      <td>NaN</td>\n",
       "    </tr>\n",
       "    <tr>\n",
       "      <th>54576</th>\n",
       "      <td>3101.0</td>\n",
       "      <td>NaN</td>\n",
       "    </tr>\n",
       "    <tr>\n",
       "      <th>57259</th>\n",
       "      <td>2061.0</td>\n",
       "      <td>NaN</td>\n",
       "    </tr>\n",
       "    <tr>\n",
       "      <th>61092</th>\n",
       "      <td>2061.0</td>\n",
       "      <td>NaN</td>\n",
       "    </tr>\n",
       "    <tr>\n",
       "      <th>62008</th>\n",
       "      <td>1286.0</td>\n",
       "      <td>NaN</td>\n",
       "    </tr>\n",
       "    <tr>\n",
       "      <th>62351</th>\n",
       "      <td>3101.0</td>\n",
       "      <td>NaN</td>\n",
       "    </tr>\n",
       "    <tr>\n",
       "      <th>63870</th>\n",
       "      <td>2061.0</td>\n",
       "      <td>NaN</td>\n",
       "    </tr>\n",
       "    <tr>\n",
       "      <th>72231</th>\n",
       "      <td>3101.0</td>\n",
       "      <td>NaN</td>\n",
       "    </tr>\n",
       "    <tr>\n",
       "      <th>72578</th>\n",
       "      <td>3101.0</td>\n",
       "      <td>NaN</td>\n",
       "    </tr>\n",
       "    <tr>\n",
       "      <th>74927</th>\n",
       "      <td>3101.0</td>\n",
       "      <td>NaN</td>\n",
       "    </tr>\n",
       "  </tbody>\n",
       "</table>\n",
       "</div>"
      ],
      "text/plain": [
       "       regionidcounty  regionidzip\n",
       "4161           3101.0          NaN\n",
       "9732           3101.0          NaN\n",
       "10063          3101.0          NaN\n",
       "13128          3101.0          NaN\n",
       "13386          3101.0          NaN\n",
       "18423          2061.0          NaN\n",
       "26735          1286.0          NaN\n",
       "30920          2061.0          NaN\n",
       "34551          2061.0          NaN\n",
       "34894          2061.0          NaN\n",
       "35382          3101.0          NaN\n",
       "35954          1286.0          NaN\n",
       "39384          2061.0          NaN\n",
       "41501          3101.0          NaN\n",
       "43907          2061.0          NaN\n",
       "45965          3101.0          NaN\n",
       "46752          2061.0          NaN\n",
       "51084          3101.0          NaN\n",
       "54576          3101.0          NaN\n",
       "57259          2061.0          NaN\n",
       "61092          2061.0          NaN\n",
       "62008          1286.0          NaN\n",
       "62351          3101.0          NaN\n",
       "63870          2061.0          NaN\n",
       "72231          3101.0          NaN\n",
       "72578          3101.0          NaN\n",
       "74927          3101.0          NaN"
      ]
     },
     "execution_count": 27,
     "metadata": {},
     "output_type": "execute_result"
    }
   ],
   "source": [
    "zillow[['regionidcounty', 'regionidzip']].loc[zillow['regionidzip'].isnull()]"
   ]
  },
  {
   "cell_type": "code",
   "execution_count": 28,
   "metadata": {
    "scrolled": true
   },
   "outputs": [
    {
     "data": {
      "text/plain": [
       "261.0    52320\n",
       "266.0    19294\n",
       "246.0     2009\n",
       "269.0     1944\n",
       "248.0      727\n",
       "247.0      535\n",
       "265.0      333\n",
       "263.0       74\n",
       "275.0       58\n",
       "260.0       37\n",
       "267.0       29\n",
       "31.0        15\n",
       "264.0        6\n",
       "Name: propertylandusetypeid, dtype: int64"
      ]
     },
     "execution_count": 28,
     "metadata": {},
     "output_type": "execute_result"
    }
   ],
   "source": [
    "df.propertylandusetypeid.value_counts()"
   ]
  },
  {
   "cell_type": "markdown",
   "metadata": {},
   "source": [
    "Imputing missing region city id\n",
    "\n",
    "I have a feelign that regioncity id is a important feature to have and, rather than gettin rid of over 1k additional rows, I'm going to figure out a way to approximate which city id belongs to which zips code, which is not missing nearly as many values. To do this I will find the zip codes associated with missing cityids, excluding nan, and then find the mode of the city id assoicated with those values. This will be used to impute the values manually."
   ]
  },
  {
   "cell_type": "code",
   "execution_count": 29,
   "metadata": {
    "scrolled": false
   },
   "outputs": [],
   "source": [
    "zips = zillow[['regionidcity', 'censustractandblock','regionidzip']].loc[zillow['regionidcity'].isnull()].regionidzip.unique()\n",
    "zips = [96186., 96956., 96337., 96989., 96993., 96395., 97023., 96377.,\n",
    "       95983., 96368., 96174., 96292., 96494., 96403., 96244., 96373.,\n",
    "       96295., 97027., 96962., 96346., 96352., 96026., 96040., 96507.,\n",
    "       96969., 96982., 96110., 97008., 96522., 96273., 96492.,\n",
    "       96488., 96169., 96270., 96203., 97081., 96506., 97026., 96973.,\n",
    "       97043., 97003., 96204., 96975., 97005., 96247., 96974., 97048.,\n",
    "       96342., 96105., 96990., 96387., 96212., 97065., 96225., 97047.,\n",
    "       96489., 96374., 96221., 96959., 96398., 96296., 97018., 96171.,\n",
    "       96229., 96505., 97083., 96126., 96049., 96284., 96242., 96044.,\n",
    "       97016., 96378.]"
   ]
  },
  {
   "cell_type": "code",
   "execution_count": 89,
   "metadata": {},
   "outputs": [
    {
     "data": {
      "text/plain": [
       "{95983.0: 12447.0,\n",
       " 96026.0: 12447.0,\n",
       " 96040.0: 12447.0,\n",
       " 96044.0: 17882.0,\n",
       " 96049.0: 12447.0,\n",
       " 96105.0: 12447.0,\n",
       " 96110.0: 39076.0,\n",
       " 96126.0: 56780.0,\n",
       " 96169.0: 14634.0,\n",
       " 96171.0: 14634.0,\n",
       " 96174.0: 396556.0,\n",
       " 96186.0: 18874.0,\n",
       " 96203.0: 42967.0,\n",
       " 96204.0: 30267.0,\n",
       " 96212.0: 12292.0,\n",
       " 96221.0: 12447.0,\n",
       " 96225.0: 54352.0,\n",
       " 96229.0: 10723.0,\n",
       " 96242.0: 46298.0,\n",
       " 96244.0: 46298.0,\n",
       " 96247.0: 46298.0,\n",
       " 96270.0: 24435.0,\n",
       " 96273.0: 32923.0,\n",
       " 96284.0: 12447.0,\n",
       " 96292.0: 47019.0,\n",
       " 96295.0: 47019.0,\n",
       " 96296.0: 54299.0,\n",
       " 96337.0: 37688.0,\n",
       " 96342.0: 12447.0,\n",
       " 96346.0: 12447.0,\n",
       " 96352.0: 54311.0,\n",
       " 96368.0: 12447.0,\n",
       " 96373.0: 54311.0,\n",
       " 96374.0: 54311.0,\n",
       " 96377.0: 54311.0,\n",
       " 96378.0: 54311.0,\n",
       " 96387.0: 12447.0,\n",
       " 96395.0: array([], dtype=float64),\n",
       " 96398.0: 10734.0,\n",
       " 96403.0: 54311.0,\n",
       " 96488.0: 39306.0,\n",
       " 96489.0: 45602.0,\n",
       " 96492.0: 22827.0,\n",
       " 96494.0: 39308.0,\n",
       " 96505.0: 24384.0,\n",
       " 96506.0: 20008.0,\n",
       " 96507.0: 20008.0,\n",
       " 96522.0: 34636.0,\n",
       " 96956.0: 13693.0,\n",
       " 96959.0: 38032.0,\n",
       " 96962.0: 32380.0,\n",
       " 96969.0: 52842.0,\n",
       " 96973.0: 34780.0,\n",
       " 96974.0: 37086.0,\n",
       " 96975.0: 40009.0,\n",
       " 96982.0: 13693.0,\n",
       " 96989.0: 17597.0,\n",
       " 96990.0: 34780.0,\n",
       " 96993.0: 15554.0,\n",
       " 97003.0: 47568.0,\n",
       " 97005.0: 40081.0,\n",
       " 97008.0: 8384.0,\n",
       " 97016.0: 27491.0,\n",
       " 97018.0: 27491.0,\n",
       " 97023.0: 16764.0,\n",
       " 97026.0: 16764.0,\n",
       " 97027.0: 16764.0,\n",
       " 97043.0: 24812.0,\n",
       " 97047.0: 24832.0,\n",
       " 97048.0: 24832.0,\n",
       " 97065.0: 33252.0,\n",
       " 97081.0: 34543.0,\n",
       " 97083.0: 34543.0}"
      ]
     },
     "execution_count": 89,
     "metadata": {},
     "output_type": "execute_result"
    }
   ],
   "source": [
    "findcity = zillow[['regionidcity', 'regionidzip']].loc[(zillow['regionidzip'].isin(zips))]\n",
    "pairs = dict(findcity.groupby('regionidzip')['regionidcity'].agg(pd.Series.mode))\n",
    "pairs_dict = pd.DataFrame(findcity.groupby('regionidzip')['regionidcity'].agg(pd.Series.mode)).reset_index()\n",
    "pairs"
   ]
  },
  {
   "cell_type": "code",
   "execution_count": 37,
   "metadata": {},
   "outputs": [
    {
     "data": {
      "text/html": [
       "<div>\n",
       "<style scoped>\n",
       "    .dataframe tbody tr th:only-of-type {\n",
       "        vertical-align: middle;\n",
       "    }\n",
       "\n",
       "    .dataframe tbody tr th {\n",
       "        vertical-align: top;\n",
       "    }\n",
       "\n",
       "    .dataframe thead th {\n",
       "        text-align: right;\n",
       "    }\n",
       "</style>\n",
       "<table border=\"1\" class=\"dataframe\">\n",
       "  <thead>\n",
       "    <tr style=\"text-align: right;\">\n",
       "      <th></th>\n",
       "      <th>regionidzip</th>\n",
       "      <th>regionidcity</th>\n",
       "    </tr>\n",
       "  </thead>\n",
       "  <tbody>\n",
       "    <tr>\n",
       "      <th>0</th>\n",
       "      <td>95983.0</td>\n",
       "      <td>12447</td>\n",
       "    </tr>\n",
       "    <tr>\n",
       "      <th>1</th>\n",
       "      <td>96026.0</td>\n",
       "      <td>12447</td>\n",
       "    </tr>\n",
       "    <tr>\n",
       "      <th>2</th>\n",
       "      <td>96040.0</td>\n",
       "      <td>12447</td>\n",
       "    </tr>\n",
       "    <tr>\n",
       "      <th>3</th>\n",
       "      <td>96044.0</td>\n",
       "      <td>17882</td>\n",
       "    </tr>\n",
       "    <tr>\n",
       "      <th>4</th>\n",
       "      <td>96049.0</td>\n",
       "      <td>12447</td>\n",
       "    </tr>\n",
       "    <tr>\n",
       "      <th>...</th>\n",
       "      <td>...</td>\n",
       "      <td>...</td>\n",
       "    </tr>\n",
       "    <tr>\n",
       "      <th>68</th>\n",
       "      <td>97047.0</td>\n",
       "      <td>24832</td>\n",
       "    </tr>\n",
       "    <tr>\n",
       "      <th>69</th>\n",
       "      <td>97048.0</td>\n",
       "      <td>24832</td>\n",
       "    </tr>\n",
       "    <tr>\n",
       "      <th>70</th>\n",
       "      <td>97065.0</td>\n",
       "      <td>33252</td>\n",
       "    </tr>\n",
       "    <tr>\n",
       "      <th>71</th>\n",
       "      <td>97081.0</td>\n",
       "      <td>34543</td>\n",
       "    </tr>\n",
       "    <tr>\n",
       "      <th>72</th>\n",
       "      <td>97083.0</td>\n",
       "      <td>34543</td>\n",
       "    </tr>\n",
       "  </tbody>\n",
       "</table>\n",
       "<p>73 rows × 2 columns</p>\n",
       "</div>"
      ],
      "text/plain": [
       "    regionidzip regionidcity\n",
       "0       95983.0        12447\n",
       "1       96026.0        12447\n",
       "2       96040.0        12447\n",
       "3       96044.0        17882\n",
       "4       96049.0        12447\n",
       "..          ...          ...\n",
       "68      97047.0        24832\n",
       "69      97048.0        24832\n",
       "70      97065.0        33252\n",
       "71      97081.0        34543\n",
       "72      97083.0        34543\n",
       "\n",
       "[73 rows x 2 columns]"
      ]
     },
     "execution_count": 37,
     "metadata": {},
     "output_type": "execute_result"
    }
   ],
   "source": [
    "pairs_dict"
   ]
  },
  {
   "cell_type": "markdown",
   "metadata": {},
   "source": [
    "Additional columns to drop:\n",
    "* unitcnt \n",
    "* propertyzoningdesc\n",
    "* finishedsquarefeet12\n",
    "* calculatedbathnbr\n",
    "* finishedsquarefeet12\n",
    "* fullbathcnt\n",
    "\n",
    "Drop rows if full\n",
    "* regionidzip - Due to having so few zips codes but properties exist across multiple counties\n",
    "* \n"
   ]
  },
  {
   "cell_type": "code",
   "execution_count": 99,
   "metadata": {},
   "outputs": [
    {
     "data": {
      "text/plain": [
       "bathroomcnt                        0\n",
       "bedroomcnt                         0\n",
       "buildingqualitytypeid           5497\n",
       "calculatedfinishedsquarefeet      26\n",
       "fips                               0\n",
       "hashottuborspa                     0\n",
       "latitude                           0\n",
       "longitude                          0\n",
       "lotsizesquarefeet                134\n",
       "propertycountylandusecode          0\n",
       "rawcensustractandblock             0\n",
       "regionidcity_x                  1012\n",
       "regionidcounty                     0\n",
       "regionidzip                        0\n",
       "roomcnt                            0\n",
       "yearbuilt                         31\n",
       "structuretaxvaluedollarcnt         5\n",
       "taxvaluedollarcnt                  1\n",
       "assessmentyear                     0\n",
       "landtaxvaluedollarcnt              1\n",
       "taxamount                          0\n",
       "censustractandblock               25\n",
       "transactiondate                    0\n",
       "logerror                           0\n",
       "heatingorsystemdesc                0\n",
       "propertylandusedesc                0\n",
       "has_pool                           0\n",
       "has_basement                       0\n",
       "regionidcity_y                     0\n",
       "dtype: int64"
      ]
     },
     "execution_count": 99,
     "metadata": {},
     "output_type": "execute_result"
    }
   ],
   "source": [
    "test = zillow.merge(pairs_dict, left_on='regionidzip', right_on='regionidzip')\n",
    "test.isnull().sum()"
   ]
  },
  {
   "cell_type": "code",
   "execution_count": 98,
   "metadata": {},
   "outputs": [
    {
     "data": {
      "text/plain": [
       "bathroomcnt                        0\n",
       "bedroomcnt                         0\n",
       "buildingqualitytypeid           5497\n",
       "calculatedfinishedsquarefeet      26\n",
       "fips                               0\n",
       "hashottuborspa                     0\n",
       "latitude                           0\n",
       "longitude                          0\n",
       "lotsizesquarefeet                134\n",
       "propertycountylandusecode          0\n",
       "rawcensustractandblock             0\n",
       "regionidcity_x                     0\n",
       "regionidcounty                     0\n",
       "regionidzip                        0\n",
       "roomcnt                            0\n",
       "yearbuilt                         31\n",
       "structuretaxvaluedollarcnt         5\n",
       "taxvaluedollarcnt                  1\n",
       "assessmentyear                     0\n",
       "landtaxvaluedollarcnt              1\n",
       "taxamount                          0\n",
       "censustractandblock               25\n",
       "transactiondate                    0\n",
       "logerror                           0\n",
       "heatingorsystemdesc                0\n",
       "propertylandusedesc                0\n",
       "has_pool                           0\n",
       "has_basement                       0\n",
       "regionidcity_y                     0\n",
       "dtype: int64"
      ]
     },
     "execution_count": 98,
     "metadata": {},
     "output_type": "execute_result"
    }
   ],
   "source": [
    "test['regionidcity_x'].fillna(test['regionidcity_y'], inplace=True)\n",
    "test.isnull().sum()"
   ]
  },
  {
   "cell_type": "code",
   "execution_count": 41,
   "metadata": {},
   "outputs": [
    {
     "data": {
      "text/plain": [
       "bathroomcnt                         0\n",
       "bedroomcnt                          0\n",
       "buildingqualitytypeid           19106\n",
       "calculatedfinishedsquarefeet      127\n",
       "fips                                0\n",
       "hashottuborspa                      0\n",
       "latitude                            0\n",
       "longitude                           0\n",
       "lotsizesquarefeet                 408\n",
       "propertycountylandusecode           0\n",
       "rawcensustractandblock              0\n",
       "regionidcity                     1036\n",
       "regionidcounty                      0\n",
       "regionidzip                        27\n",
       "roomcnt                             0\n",
       "yearbuilt                         159\n",
       "structuretaxvaluedollarcnt         93\n",
       "taxvaluedollarcnt                   1\n",
       "assessmentyear                      0\n",
       "landtaxvaluedollarcnt               2\n",
       "taxamount                           4\n",
       "censustractandblock               125\n",
       "transactiondate                     0\n",
       "logerror                            0\n",
       "heatingorsystemdesc                 0\n",
       "propertylandusedesc                 0\n",
       "has_pool                            0\n",
       "has_basement                        0\n",
       "dtype: int64"
      ]
     },
     "execution_count": 41,
     "metadata": {},
     "output_type": "execute_result"
    }
   ],
   "source": [
    "zillow.isnull().sum()"
   ]
  },
  {
   "cell_type": "code",
   "execution_count": null,
   "metadata": {},
   "outputs": [],
   "source": []
  }
 ],
 "metadata": {
  "kernelspec": {
   "display_name": "Python 3",
   "language": "python",
   "name": "python3"
  },
  "language_info": {
   "codemirror_mode": {
    "name": "ipython",
    "version": 3
   },
   "file_extension": ".py",
   "mimetype": "text/x-python",
   "name": "python",
   "nbconvert_exporter": "python",
   "pygments_lexer": "ipython3",
   "version": "3.8.3"
  }
 },
 "nbformat": 4,
 "nbformat_minor": 4
}
